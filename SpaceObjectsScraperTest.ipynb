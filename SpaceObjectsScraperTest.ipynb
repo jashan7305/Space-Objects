{
 "cells": [
  {
   "cell_type": "code",
   "execution_count": 2,
   "metadata": {},
   "outputs": [],
   "source": [
    "from selenium import webdriver\n",
    "from selenium.webdriver.common.by import By\n",
    "from selenium.webdriver.support.ui import WebDriverWait\n",
    "from selenium.webdriver.support import expected_conditions as EC\n",
    "import pandas as pd\n",
    "from dotenv import load_dotenv\n",
    "import os\n",
    "import time"
   ]
  },
  {
   "cell_type": "code",
   "execution_count": 3,
   "metadata": {},
   "outputs": [],
   "source": [
    "load_dotenv(\".env\", override=True)\n",
    "username = os.getenv(\"USERNAME\")\n",
    "password = os.getenv(\"PASSWORD\")"
   ]
  },
  {
   "cell_type": "code",
   "execution_count": 15,
   "metadata": {},
   "outputs": [],
   "source": [
    "driver = webdriver.Chrome()\n",
    "driver.get(\"https://www.space-track.org/#catalog\")"
   ]
  },
  {
   "cell_type": "code",
   "execution_count": 11,
   "metadata": {},
   "outputs": [],
   "source": [
    "usename_field = driver.find_element(By.ID, \"identity\")\n",
    "password_field = driver.find_element(By.ID, \"password\")\n",
    "login_btn = driver.find_element(By.NAME, \"btnLogin\")\n",
    "usename_field.send_keys(username)\n",
    "password_field.send_keys(password)\n",
    "login_btn.click()"
   ]
  },
  {
   "cell_type": "code",
   "execution_count": 12,
   "metadata": {},
   "outputs": [],
   "source": [
    "driver.find_element(By.LINK_TEXT, \"SATCAT\").click()"
   ]
  },
  {
   "cell_type": "code",
   "execution_count": 13,
   "metadata": {},
   "outputs": [],
   "source": [
    "dropdown = driver.find_element(By.NAME, \"satCatTable_length\")\n",
    "dropdown.send_keys(\"100\") "
   ]
  },
  {
   "cell_type": "code",
   "execution_count": null,
   "metadata": {},
   "outputs": [
    {
     "ename": "AttributeError",
     "evalue": "'NoneType' object has no attribute 'strip'",
     "output_type": "error",
     "traceback": [
      "\u001b[1;31m---------------------------------------------------------------------------\u001b[0m",
      "\u001b[1;31mAttributeError\u001b[0m                            Traceback (most recent call last)",
      "Cell \u001b[1;32mIn[9], line 18\u001b[0m\n\u001b[0;32m     16\u001b[0m norad_ids\u001b[38;5;241m.\u001b[39mappend(cells[\u001b[38;5;241m0\u001b[39m]\u001b[38;5;241m.\u001b[39mtext\u001b[38;5;241m.\u001b[39mstrip())\n\u001b[0;32m     17\u001b[0m sat_names\u001b[38;5;241m.\u001b[39mappend(cells[\u001b[38;5;241m1\u001b[39m]\u001b[38;5;241m.\u001b[39mtext\u001b[38;5;241m.\u001b[39mstrip())\n\u001b[1;32m---> 18\u001b[0m types\u001b[38;5;241m.\u001b[39mappend(cells[\u001b[38;5;241m3\u001b[39m]\u001b[38;5;241m.\u001b[39mtext\u001b[38;5;241m.\u001b[39mstrip())\n\u001b[0;32m     19\u001b[0m launch_dates\u001b[38;5;241m.\u001b[39mappend(cells[\u001b[38;5;241m5\u001b[39m]\u001b[38;5;241m.\u001b[39mtext\u001b[38;5;241m.\u001b[39mstrip())\n\u001b[0;32m     20\u001b[0m periods\u001b[38;5;241m.\u001b[39mappend(cells[\u001b[38;5;241m8\u001b[39m]\u001b[38;5;241m.\u001b[39mtext\u001b[38;5;241m.\u001b[39mstrip())\n",
      "\u001b[1;31mAttributeError\u001b[0m: 'NoneType' object has no attribute 'strip'"
     ]
    }
   ],
   "source": [
    "norad_ids = []\n",
    "sat_names = []\n",
    "types = []\n",
    "launch_dates = []\n",
    "periods = []\n",
    "inclinations = []\n",
    "apogees = []\n",
    "perigees = []\n",
    "rcss = []\n",
    "\n",
    "num_pages = 0\n",
    "while num_pages < 1:\n",
    "    rows = driver.find_elements(By.XPATH, \"//*[@id='satCatTable']/tbody/tr\")\n",
    "    for row in rows:\n",
    "        cells = row.find_elements(By.TAG_NAME, \"td\")\n",
    "        norad_ids.append(cells[0].text.strip())\n",
    "        sat_names.append(cells[1].text.strip())\n",
    "        types.append(cells[3].text.strip())\n",
    "        launch_dates.append(cells[5].text.strip())\n",
    "        periods.append(cells[8].text.strip())\n",
    "        inclinations.append(cells[9].text.strip())\n",
    "        apogees.append(cells[10].text.strip())\n",
    "        perigees.append(cells[11].text.strip())\n",
    "        rcss.append(cells[12].text.strip())\n",
    "\n",
    "    \n",
    "    next_button = driver.find_element(By.LINK_TEXT, \"Next\")\n",
    "    next_button.click()\n",
    "    num_pages += 1\n",
    "    time.sleep(3)\n",
    "    \n",
    "\n",
    "print(norad_ids[:5])\n",
    "print(sat_names[:5])\n",
    "print(types[:5])\n",
    "print(launch_dates[:5])\n",
    "print(periods[:5])\n",
    "print(inclinations[:5])\n",
    "print(apogees[:5])\n",
    "print(perigees[:5])\n",
    "print(rcss[:5])\n",
    "print(\"done\")\n",
    "\n"
   ]
  },
  {
   "cell_type": "code",
   "execution_count": 14,
   "metadata": {},
   "outputs": [],
   "source": [
    "driver.quit()"
   ]
  },
  {
   "cell_type": "code",
   "execution_count": null,
   "metadata": {},
   "outputs": [],
   "source": []
  }
 ],
 "metadata": {
  "kernelspec": {
   "display_name": "Python 3",
   "language": "python",
   "name": "python3"
  },
  "language_info": {
   "codemirror_mode": {
    "name": "ipython",
    "version": 3
   },
   "file_extension": ".py",
   "mimetype": "text/x-python",
   "name": "python",
   "nbconvert_exporter": "python",
   "pygments_lexer": "ipython3",
   "version": "3.11.5"
  }
 },
 "nbformat": 4,
 "nbformat_minor": 2
}
